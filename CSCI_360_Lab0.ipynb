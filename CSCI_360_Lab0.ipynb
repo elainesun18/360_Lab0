{
 "cells": [
  {
   "cell_type": "markdown",
   "metadata": {
    "id": "L2qlYnAmvp7N"
   },
   "source": [
    "### Rules"
   ]
  },
  {
   "cell_type": "markdown",
   "metadata": {
    "id": "iISzBq0Ovp7O"
   },
   "source": [
    "1. Please read the instructions and problem prompts **carefully**.\n",
    "2. This lab is to give you understanding of data structures like list, queue, dictionary, heap along with the usage of numpy. Besides, some topics such as how to make your jupyter notebook be a more efficient developing tools, how to use git and GitHub will also be covered. The lab is to be done individually. You may talk to your fellow classmates about general issues (\"Remind me again: Which API should I used for doing group by operation to a data set\") but about the specifies of how to do these exercises.\n",
    "3. Along with a similar vein, you can ask the TA for help, but ask questions about **concepts** but not ask the TA to help you debug your code. The TA is here to help, but not to do the work for you.\n",
    "4. You are welcome to use the class resources and the Internet.\n",
    "5. Playing with variations. Solve one problems, and then copy the code to a new cell and play around with it. Doing this is the single most important thing when learning programming.\n",
    "6. This lab will not be graded but the content is highly related to your future programming assignments. So, treat it wisely.\n",
    "7. All the content having been gone though in the week 1 discussion is just a snapshot of the most basic concepts. **You need to keep study more about Git, GitHub, and Numpy in order to finish your programming assignments successfully.**\n",
    "8. Have fun!"
   ]
  },
  {
   "cell_type": "markdown",
   "metadata": {
    "id": "OYMWmlqevp7K"
   },
   "source": [
    "<center><h1>CSCI 360 Lab 0</h1></center>\n",
    "<br>\n",
    "<center><font size=\"4\">Introduction to Artificial Intelligence</font></center>"
   ]
  },
  {
   "cell_type": "markdown",
   "metadata": {
    "id": "UeP3cZ1Dvp7P"
   },
   "source": [
    "### Setup Development Environment"
   ]
  },
  {
   "cell_type": "markdown",
   "metadata": {
    "id": "3WVwpMF3vp7P"
   },
   "source": [
    "There are many ways to setup the environment. But, I do recommend a simple idea that is using the Anaconda, which is a pre-build python environment with bundles of useful packages.\n",
    "\n",
    "**To download the Anaconda, go to the following website:\n",
    "https://www.anaconda.com/distribution/**. Download the correct version based on your operating system and install it step by step.\n",
    "\n",
    "Then, **configure your PATH environment variable** to make the conda command work. The following command is an easy way to test whether your configuration is correct. If it is, you will see something as like as the sample output.\n",
    "\n",
    "> **command:**\n",
    ">\n",
    "> conda --version\n",
    ">\n",
    "> **sample output:**\n",
    ">\n",
    "> conda 4.6.12\n",
    "\n",
    "**Finally, download this jupyter notebook file,** then change the working directory to where its location in terminal, and type the following command to open the jupter notebook and finish the lab.\n",
    "\n",
    "> **command:** \n",
    "> jupyter notebook"
   ]
  },
  {
   "cell_type": "code",
   "execution_count": 2,
   "metadata": {
    "ExecuteTime": {
     "end_time": "2020-01-14T19:44:42.243800Z",
     "start_time": "2020-01-14T19:44:41.609555Z"
    },
    "id": "oPlIAZLcvp7Q"
   },
   "outputs": [],
   "source": [
    "import numpy as np"
   ]
  },
  {
   "cell_type": "markdown",
   "metadata": {
    "id": "G8UximGjzNA_"
   },
   "source": [
    "### Lists"
   ]
  },
  {
   "cell_type": "markdown",
   "metadata": {
    "id": "8W9hgQtVrItz"
   },
   "source": [
    "#### Basic List Functions\n",
    "\n",
    "\n",
    "\n"
   ]
  },
  {
   "cell_type": "markdown",
   "metadata": {
    "id": "2JrRqDrHtK1E"
   },
   "source": [
    "*   Read this [documentation](https://docs.python.org/3/tutorial/datastructures.html) to get acquainted with the available list functions \n",
    "*   Define a list players with elements \n",
    "  *   Federer\n",
    "  *   Nadal\n",
    "  *   Felix\n",
    "*   Append Djokovic, Medvedev and  Sinner into the list\n",
    "*   Define a list new_players with elements\n",
    "  *   Tsitsipas\n",
    "  *   Rublev\n",
    "  *   Dimitrov\n",
    "*   Merge the new_players list into the players list\n",
    "*   Remove Medvedev from the players list"
   ]
  },
  {
   "cell_type": "code",
   "execution_count": 6,
   "metadata": {
    "id": "ty7K-YoRsPnq"
   },
   "outputs": [
    {
     "name": "stdout",
     "output_type": "stream",
     "text": [
      "Federer\n",
      "Nadal\n",
      "Felix\n",
      "Djokovic\n",
      "Sinner\n",
      "Tsitsipas\n",
      "Rublev\n",
      "Dimitrov\n"
     ]
    }
   ],
   "source": [
    "players = [\"Federer\", \"Nadal\", \"Felix\"]\n",
    "\n",
    "players.append(\"Djokovic\")\n",
    "players.append(\"Medvedev\")\n",
    "players.append(\"Sinner\")\n",
    "\n",
    "new_players = [\"Tsitsipas\", \"Rublev\", \"Dimitrov\"]\n",
    "\n",
    "for player in new_players: \n",
    "    players.append(player)\n",
    "    \n",
    "players.remove(\"Medvedev\")\n",
    "\n",
    "for player in players: \n",
    "    print(player)\n"
   ]
  },
  {
   "cell_type": "markdown",
   "metadata": {
    "id": "WuauRaiusQd7"
   },
   "source": [
    "####Indexing and Slicing\n",
    "\n",
    "\n",
    "\n",
    "\n"
   ]
  },
  {
   "cell_type": "markdown",
   "metadata": {
    "id": "PBXq0PmstNOx"
   },
   "source": [
    "*   Read this [tutorial](https://realpython.com/lessons/indexing-and-slicing/) to learn about indexing and slicing.\n",
    "*   Use negative indexing to access the last element of the players list.\n",
    "*   Create a new list which only has the last 3 elements from the players list. \n",
    "*   Check out and play with different ways to index and slice the list."
   ]
  },
  {
   "cell_type": "code",
   "execution_count": 10,
   "metadata": {
    "id": "QXM22Lpbs1Dd"
   },
   "outputs": [
    {
     "name": "stdout",
     "output_type": "stream",
     "text": [
      "Dimitrov\n",
      "['Tsitsipas', 'Rublev', 'Dimitrov']\n"
     ]
    }
   ],
   "source": [
    "players[-1]\n",
    "print(players[-1])\n",
    "\n",
    "new_list = players[-3:]\n",
    "print(new_list)"
   ]
  },
  {
   "cell_type": "markdown",
   "metadata": {
    "id": "QwT8whTKs2oZ"
   },
   "source": [
    "####List Comprehension\n"
   ]
  },
  {
   "cell_type": "markdown",
   "metadata": {
    "id": "MAc696lZtPfK"
   },
   "source": [
    "List comprehension is an elegant way to define and create lists based on existing lists. List comprehension is generally more compact and faster than normal functions and loops for creating list.\n",
    "\n",
    "*   Read this [tutorial](https://www.w3schools.com/python/python_lists_comprehension.asp) to learn about list comprehension.\n",
    "*   Use list comprehension to create a list of squares of all the odd numbers between 50 and 100.\n",
    "*   Use list comprehension to create a filtered_players list from the players list, which contains all the players having the vowel e in their name. [Example : Federer]\n",
    "\n"
   ]
  },
  {
   "cell_type": "code",
   "execution_count": null,
   "metadata": {
    "id": "f6-bsTN9tu6I"
   },
   "outputs": [],
   "source": []
  },
  {
   "cell_type": "markdown",
   "metadata": {
    "id": "EmDKdFHttxCv"
   },
   "source": [
    "#### Some Other List Functions"
   ]
  },
  {
   "cell_type": "markdown",
   "metadata": {
    "id": "6qk0N_6Bt5Mf"
   },
   "source": [
    "\n",
    "*   Explore min(), max(), sum(), len(), sort() functions.\n",
    "*   Define a list with numbers [1, 37, 2, 59, 46, 32, 12, 40, 78].\n",
    "*   Sort the list in descending order. \n",
    "    \n",
    "    **Hint:** Use key/reverse parameter of the sort function\n",
    "*   Print the sum, min, max, mean and median of this list.\n",
    "\n",
    "\n",
    "\n",
    "\n",
    "\n"
   ]
  },
  {
   "cell_type": "code",
   "execution_count": null,
   "metadata": {
    "id": "08vemfycuj7a"
   },
   "outputs": [],
   "source": []
  },
  {
   "cell_type": "markdown",
   "metadata": {
    "id": "7H25lyhRzSG9"
   },
   "source": [
    "### Queues\n"
   ]
  },
  {
   "cell_type": "markdown",
   "metadata": {
    "id": "ZVDJZn2el2mV"
   },
   "source": [
    "Queue in Python can be implemented by the following ways:\n",
    " \n",
    "\n",
    "* list : Instead of enqueue() and dequeue(), append() and pop() function is used. However, lists are quite slow for this purpose because inserting or deleting an element at the beginning requires shifting all of the other elements by one, requiring O(n) time.\n",
    "\n",
    "* collections.deque : deque provides an O(1) time complexity for append and pop operations as compared to list which provides O(n) time complexity. Instead of enqueue and deque, append() and popleft() functions are used.\n",
    "\n",
    "***NOTE***: deque is a different data structure than the conventional queues in the sense that it is known is 'double ended queue', but we can use this data structure to run queue operations efficiently.\n",
    "\n",
    "* queue.Queue : Queue is built-in module of Python which is used to implement a queue. queue.Queue(maxsize) initializes a variable to a maximum size of maxsize. A maxsize of zero ‘0’ means a infinite queue. This Queue follows FIFO rule. \n",
    "\n",
    "[Read the documentation of deque here](https://docs.python.org/3/library/collections.html#collections.deque)\n",
    "\n",
    "[Read the documentation of python queue class here](https://docs.python.org/3/library/queue.html)\n",
    "\n",
    "\n",
    "Read the documentations and choose one of above two implementations for the following exercises."
   ]
  },
  {
   "cell_type": "markdown",
   "metadata": {
    "id": "Fjy3QU9vJtwE"
   },
   "source": [
    "Exercise:\n",
    "\n",
    "* Create a queue with the following elements in the given order: [2, -1, 3, 4, -1, 5, 6, 7, -1, 8, 9, 10, -1 , -1]\n",
    "* Write a function reOrg(), that takes the above queue as an argument and returns a list of lists containing all contiguous positive elements in the queue, for example, for the given queue, you need to output [[2], [3,4], [5,6,7], [8,9,10]].\n",
    "\n",
    "Hint : Use a while loop with condition (!isEmpty(queue)), create a global list, create smaller lists inside the loop and work on getting the desired output. You'll need to use the methods push(), pop(), front() in order to solve the problem. "
   ]
  },
  {
   "cell_type": "code",
   "execution_count": null,
   "metadata": {
    "id": "Q5TAYGqMLHYE"
   },
   "outputs": [],
   "source": []
  },
  {
   "cell_type": "markdown",
   "metadata": {
    "id": "34Cm-R12TGFM"
   },
   "source": [
    "Exercise:\n",
    "https://leetcode.com/problems/implement-stack-using-queues/"
   ]
  },
  {
   "cell_type": "code",
   "execution_count": null,
   "metadata": {
    "id": "C7UEQqNiLIQB"
   },
   "outputs": [],
   "source": []
  },
  {
   "cell_type": "markdown",
   "metadata": {
    "id": "OImYqM-QzXiZ"
   },
   "source": [
    "### Dictionary"
   ]
  },
  {
   "cell_type": "markdown",
   "metadata": {
    "id": "KSwqc4Q493Hg"
   },
   "source": [
    "General Syntax:\n",
    "\n",
    "A general dictionary in Python looks something like this:\n",
    "```python\n",
    ">>> dictionary_name = {key_1: value_1,\n",
    "                   key_2: value_2,\n",
    "                   key_3: value_3,\n",
    "                   }\n",
    "```\n",
    "\n"
   ]
  },
  {
   "cell_type": "markdown",
   "metadata": {
    "id": "RSDnH4GqAux4"
   },
   "source": [
    "Add/modify a key-value pair to a dictionary:\n",
    "\n",
    "```python\n",
    ">>> dictionary_name['key'] = value\n",
    "```\n"
   ]
  },
  {
   "cell_type": "markdown",
   "metadata": {
    "id": "_0JKk1wTA87l"
   },
   "source": [
    "**EXERCISE**\n",
    "\n",
    "Now, create an empty dictionary\n",
    "* Define a dictionary with the following data pairs\n",
    "   * John - Cena\n",
    "   * Jack - Ma\n",
    "   * Jill - Goodacre\n",
    "* Add \"Jennifer\" to the dictionary the with the value \"Aniston\"\n",
    "* Then remove Jill from the dictionary.\n",
    "* Modify Jennifer's value from Aniston to Lawrence in the dictionary.\n"
   ]
  },
  {
   "cell_type": "code",
   "execution_count": null,
   "metadata": {
    "id": "bflLn4CdBOuX"
   },
   "outputs": [],
   "source": []
  },
  {
   "cell_type": "markdown",
   "metadata": {
    "id": "P57aaB2aBz3_"
   },
   "source": []
  },
  {
   "cell_type": "markdown",
   "metadata": {
    "id": "W9QFnZfk-cy6"
   },
   "source": [
    "We can use the following methods:\n",
    "\n",
    "* `dict.items()` : List of all key-value pairs \n",
    "* `dict.keys()` : list of all the keys in a dictionary\n",
    "\n",
    "* `dict.values()` : list of all the values in a dictionary\n",
    "\n",
    "* `dict.clear()` : Remove all items\n",
    "\n",
    "* `dict.copy()` : Returns a shallow copy of a dictionary\n",
    "\n",
    "* `dict.get(x)` : Returns value from key x\n",
    "\n",
    "\n",
    "**LOOPING** through all the elements in a dictionary:\n",
    "```python\n",
    "for key_name, value_name in dictionary_name.items():\n",
    "    print(key_name) # The key is stored in whatever you called the first variable.\n",
    "    print(value_name) # The value associated with that key is stored in your second variable.\n",
    "```\n"
   ]
  },
  {
   "cell_type": "markdown",
   "metadata": {
    "id": "rncFlR9JIt1V"
   },
   "source": [
    "**EXERCISE**\n",
    "* Create a ***dictionary of lists*** for the following data\n",
    "* A student can have upto 5 courses' scores.\n",
    "\n",
    "| studentID | AI | ML | OS | WebTech | Algo |\n",
    "| ----- | --- | ----| ----| ----| ----|\n",
    "| 1001| 95 | 93 | 81 | 90 | 100 | \n",
    "| 1002 | 100 | 95 | 89 | 87 | |\n",
    "| 1003 | 92 | 91 |  | 80 | | |\n",
    "\n",
    "\n",
    "* Print the full dictionary\n",
    "* Print all the student IDs in the dictionary\n",
    "* Print all scores for student 1003\n",
    "* Delete all scores for student 1001\n",
    "* Print the full dictionary\n",
    "\n",
    "Hint: Use studentID as key and value as a list of scores."
   ]
  },
  {
   "cell_type": "code",
   "execution_count": null,
   "metadata": {
    "id": "Sjk7nJi1BSUm"
   },
   "outputs": [],
   "source": []
  },
  {
   "cell_type": "markdown",
   "metadata": {
    "id": "LKXg_6-ELRJu"
   },
   "source": [
    "**EXERCISE**\n",
    "* Create the following dictionary\n",
    "``` \n",
    "patient = {\n",
    "    'bmi' : 30,\n",
    "    'diagnosis' : ['Schizophrenia', 'Diabetes', 'Anxiety'],\n",
    "    'heart_rates' : [95, 123, 135, 91, 175, 2000]\n",
    "}\n",
    "```\n",
    "* Add a key to the dictionary called 'medication'.\n",
    "* Set the value of 'medication' to be a list consisting of the strings 'Aripiprazole', 'Citalopram', and 'Ibuprofen'.\n",
    "* .sort() the measures in the list stored under the 'heart_rates' key.\n",
    "* Then .remove() 2000 from the list of 'heart_rates'.\n",
    "* Add the value 5 to the number stored under the 'bmi' key.\n",
    "* Print the full dictionary"
   ]
  },
  {
   "cell_type": "code",
   "execution_count": null,
   "metadata": {
    "id": "xIpyNHCOLjJR"
   },
   "outputs": [],
   "source": []
  },
  {
   "cell_type": "markdown",
   "metadata": {
    "id": "5oeOoWgWBSaT"
   },
   "source": []
  },
  {
   "cell_type": "markdown",
   "metadata": {
    "id": "v07jTeU7zbNC"
   },
   "source": [
    "### Heap"
   ]
  },
  {
   "cell_type": "markdown",
   "metadata": {
    "id": "00bNBmO_u22-"
   },
   "source": [
    "The heapq module in python provides the different functions required to maintain the heap data structure. The heap is maintained in a python list and we use the functions provided by heapq to maintain the required heap property in the list.\n",
    "\n",
    "**Quick start:** https://docs.python.org/3/library/heapq.html"
   ]
  },
  {
   "cell_type": "markdown",
   "metadata": {
    "id": "7_tjxBjzxpfz"
   },
   "source": [
    "#### Basic Heap Operations\n",
    "\n",
    "*   Create a list with numbers [22, 37, 90, 49, 56, 65].\n",
    "*   Use heapify to convert the list into a min heap.\n",
    "*   Use heappush to add the numbers 12, 40, 99 into the list.\n",
    "*   Use heappop 4 times and print those numbers.\n",
    "*   Play with the heap functions to get more acquainted.\n",
    "\n"
   ]
  },
  {
   "cell_type": "code",
   "execution_count": null,
   "metadata": {
    "id": "rGGor65DxoTW"
   },
   "outputs": [],
   "source": []
  },
  {
   "cell_type": "markdown",
   "metadata": {
    "id": "Z9SfdEvbyUTJ"
   },
   "source": [
    "####Max Heap\n",
    "\n",
    "Solve the above exercise again by considering a max heap, instead of a min heap. Note that the heapq library by default provides min heap. \n",
    "**Hint:** Store numbers as negative (e.g. -1 instead of 1)"
   ]
  },
  {
   "cell_type": "code",
   "execution_count": null,
   "metadata": {
    "id": "_At2-icfzUsq"
   },
   "outputs": [],
   "source": []
  },
  {
   "cell_type": "markdown",
   "metadata": {
    "id": "Yz7SlXGXzU9A"
   },
   "source": [
    "#### Heap Sort"
   ]
  },
  {
   "cell_type": "markdown",
   "metadata": {
    "id": "XILzfaabzZH7"
   },
   "source": [
    "Use the heap functions to create a sorted list from the above given list. Note that this approach is similar to the famous sorting algorithm called heap sort.\n",
    "\n"
   ]
  },
  {
   "cell_type": "code",
   "execution_count": null,
   "metadata": {
    "id": "FaJxcjf1zl20"
   },
   "outputs": [],
   "source": []
  },
  {
   "cell_type": "markdown",
   "metadata": {
    "id": "X_lG--Dxvp7U"
   },
   "source": [
    "### Numpy"
   ]
  },
  {
   "cell_type": "markdown",
   "metadata": {
    "id": "3ZO0eW0vvp7U"
   },
   "source": [
    "Quick start: https://www.numpy.org/devdocs/user/quickstart.html\n",
    "\n",
    "Numpy axes explaination: https://www.sharpsightlabs.com/blog/numpy-axes-explained/"
   ]
  },
  {
   "cell_type": "markdown",
   "metadata": {
    "id": "UHiuuI1Tvp7U"
   },
   "source": [
    "#### The np.array Method"
   ]
  },
  {
   "cell_type": "markdown",
   "metadata": {
    "id": "QBJn5PO5vp7V"
   },
   "source": [
    "Example 1:\n",
    "\n",
    "```python\n",
    "ls = [1, 2, 3]\n",
    "arr = np.array(ls)\n",
    "```\n",
    "\n",
    "Example 2:\n",
    "```python\n",
    ">>> np.array([[1, 2], [3, 4]])\n",
    "array([[1, 2],\n",
    "       [3, 4]])\n",
    "```"
   ]
  },
  {
   "cell_type": "markdown",
   "metadata": {
    "id": "jDsWc19Yvp7V"
   },
   "source": [
    "Now, create a 2-dimensional Python list object, then convert it to a Numpy array object."
   ]
  },
  {
   "cell_type": "code",
   "execution_count": null,
   "metadata": {
    "id": "hwUe_0I_vp7V"
   },
   "outputs": [],
   "source": []
  },
  {
   "cell_type": "markdown",
   "metadata": {
    "id": "3hSscKRYvp7V"
   },
   "source": [
    "#### ndarray Objects' Attributes"
   ]
  },
  {
   "cell_type": "markdown",
   "metadata": {
    "id": "qkRjQvXmvp7V"
   },
   "source": [
    "Play with the **ndim, shape, size, dtype, itemsize and data** attribute.\n",
    "\n",
    "Example:\n",
    "\n",
    "```python\n",
    ">>> arr = np.array([[1, 2], [3, 4]])\n",
    ">>> arr.ndim\n",
    "2\n",
    "```"
   ]
  },
  {
   "cell_type": "code",
   "execution_count": null,
   "metadata": {
    "id": "A8oJawoovp7V"
   },
   "outputs": [],
   "source": []
  },
  {
   "cell_type": "markdown",
   "metadata": {
    "id": "un1g4F6Xvp7V"
   },
   "source": [
    "#### Dimension of ndarray Ojects"
   ]
  },
  {
   "cell_type": "markdown",
   "metadata": {
    "id": "g9iN0Y0yvp7V"
   },
   "source": [
    "Play with the reshape() and flatten() method.\n",
    "\n",
    "Example:\n",
    "```python\n",
    ">>> arr = np.array([[1, 2], [3, 4]])\n",
    ">>> arr.flatten()\n",
    "array([1, 2, 3, 4])\n",
    "```"
   ]
  },
  {
   "cell_type": "code",
   "execution_count": null,
   "metadata": {
    "id": "e3hDDUrGvp7V"
   },
   "outputs": [],
   "source": []
  },
  {
   "cell_type": "markdown",
   "metadata": {
    "id": "drr-ja8Uvp7W"
   },
   "source": [
    "#### The Slice Operation of ndarray Objects"
   ]
  },
  {
   "cell_type": "markdown",
   "metadata": {
    "id": "GzMKkUIYvp7W"
   },
   "source": [
    "Understand how the slice operation works for 1-D array and 2-D array.\n",
    "\n",
    "Example:\n",
    "\n",
    "```python\n",
    ">>> arr = np.array([[1, 2, 3], [3, 4, 6], [7, 8, 9]])\n",
    ">>> arr[1:]\n",
    "array([[3, 4, 6],\n",
    "       [7, 8, 9]])\n",
    ">>> arr[1:, 0:2]\n",
    "array([[3, 4],\n",
    "       [7, 8]])\n",
    "```"
   ]
  },
  {
   "cell_type": "code",
   "execution_count": null,
   "metadata": {
    "id": "IqIBahRwvp7W"
   },
   "outputs": [],
   "source": []
  },
  {
   "cell_type": "markdown",
   "metadata": {
    "id": "6tKxEjEavp7W"
   },
   "source": [
    "#### The Calculation of ndarray Objects"
   ]
  },
  {
   "cell_type": "markdown",
   "metadata": {
    "id": "atBz3PtYvp7W"
   },
   "source": [
    "Play with the **argmin(), argmax(), min(), max(), mean(), sum(), std(), dot(), square(), sqrt(), abs(). exp(), sign(), mod()** method.\n",
    "\n",
    "Example:\n",
    "\n",
    "```python\n",
    ">>> np.square(array)\n",
    "array([[ 1,  4,  9],\n",
    "       [ 9, 16, 36],\n",
    "       [49, 64, 81]])\n",
    "\n",
    "```"
   ]
  },
  {
   "cell_type": "code",
   "execution_count": null,
   "metadata": {
    "id": "-q6R1wvLvp7W"
   },
   "outputs": [],
   "source": []
  },
  {
   "cell_type": "markdown",
   "metadata": {
    "id": "sUnFmE68vp7W"
   },
   "source": [
    "#### Other Important Methods Inside Module Numpy"
   ]
  },
  {
   "cell_type": "markdown",
   "metadata": {
    "id": "nubXdvAPvp7W"
   },
   "source": [
    "Play with the arange(), ones(), zeros(), eye(), linspace(), concatenate() method.\n",
    "\n",
    "Example:\n",
    "\n",
    "```python\n",
    ">>> np.eye(3)\n",
    "array([[1., 0., 0.],\n",
    "       [0., 1., 0.],\n",
    "       [0., 0., 1.]])\n",
    "```"
   ]
  },
  {
   "cell_type": "code",
   "execution_count": null,
   "metadata": {
    "id": "1TFYw6V9vp7W"
   },
   "outputs": [],
   "source": []
  },
  {
   "cell_type": "markdown",
   "metadata": {
    "id": "PqsXPrZnqOFf"
   },
   "source": [
    "While arrays in C++ have a fixed size and are homogeneous (store the same type of data), lists in python are resizable and can store different types of data including lists itself (nested lists)."
   ]
  },
  {
   "cell_type": "markdown",
   "metadata": {
    "id": "ThTm3O49qsE-"
   },
   "source": [
    "General Syntax:\n",
    "\n",
    "A general list in Python looks something like this:\n",
    "```python\n",
    ">>> list_name = ['A', 'B', 'C']\n",
    "```\n",
    "\n",
    "**LOOPING** through the list:\n",
    "```python\n",
    ">>> for item_name in list_name:\n",
    "      print(item_name)\n",
    "```"
   ]
  },
  {
   "cell_type": "markdown",
   "metadata": {
    "id": "TMl6eUhdvp7Z"
   },
   "source": [
    "### Jupyter Notebook"
   ]
  },
  {
   "cell_type": "markdown",
   "metadata": {
    "id": "sM7ObDAnvp7Z"
   },
   "source": [
    "#### Jupyter Notebook Extensions"
   ]
  },
  {
   "cell_type": "markdown",
   "metadata": {
    "id": "v9Fqnzylvp7Z"
   },
   "source": [
    "Extensions such as the code formatter, table of content is to make your development more efficient. To explore it, please refer to https://github.com/ipython-contrib/jupyter_contrib_nbextensions."
   ]
  },
  {
   "cell_type": "markdown",
   "metadata": {
    "id": "tqekpcj-vp7Z"
   },
   "source": [
    "#### Jupyter Visual Debugger"
   ]
  },
  {
   "cell_type": "markdown",
   "metadata": {
    "id": "wIjq6zgPvp7a"
   },
   "source": [
    "The Pixie Debugger is a visual debugger for debugging on Jupyter Notebook. To explore it, please refer to https://medium.com/codait/the-visual-python-debugger-for-jupyter-notebooks-youve-always-wanted-761713babc62."
   ]
  },
  {
   "cell_type": "markdown",
   "metadata": {
    "id": "gqeI_p40vp7a"
   },
   "source": [
    "### Git and GitHub"
   ]
  },
  {
   "cell_type": "markdown",
   "metadata": {
    "id": "GHt1RkAovp7a"
   },
   "source": [
    "1. In the directory that where this jupyter notebook file locates in, init a Git repository.\n",
    "2. Checkout a new branch called dev and commit the current notebook within this branch.\n",
    "3. Merge the dev branch to the master branch (the default branch).\n",
    "4. Create a temporary repository (just for practicing and you can delete it later) in GitHub. \n",
    "5. Push new changes in the master branch to the remote repository created in step 4.\n",
    "6. Checkout the dev branch again and do some changes to your notebook, and then repeat step 3 and step 5."
   ]
  },
  {
   "cell_type": "code",
   "execution_count": null,
   "metadata": {
    "id": "UDKyfRIdvp7a"
   },
   "outputs": [],
   "source": []
  },
  {
   "cell_type": "code",
   "execution_count": null,
   "metadata": {
    "id": "n_hAejh8vp7a"
   },
   "outputs": [],
   "source": []
  },
  {
   "cell_type": "code",
   "execution_count": null,
   "metadata": {
    "id": "ogXJXteuvp7a"
   },
   "outputs": [],
   "source": []
  },
  {
   "cell_type": "code",
   "execution_count": null,
   "metadata": {
    "id": "vLVz-HU6vp7a"
   },
   "outputs": [],
   "source": []
  },
  {
   "cell_type": "code",
   "execution_count": null,
   "metadata": {
    "id": "Hw5EjdZMvp7a"
   },
   "outputs": [],
   "source": []
  }
 ],
 "metadata": {
  "colab": {
   "collapsed_sections": [
    "v07jTeU7zbNC",
    "X_lG--Dxvp7U"
   ],
   "provenance": []
  },
  "kernelspec": {
   "display_name": "Python 3 (ipykernel)",
   "language": "python",
   "name": "python3"
  },
  "language_info": {
   "codemirror_mode": {
    "name": "ipython",
    "version": 3
   },
   "file_extension": ".py",
   "mimetype": "text/x-python",
   "name": "python",
   "nbconvert_exporter": "python",
   "pygments_lexer": "ipython3",
   "version": "3.9.13"
  },
  "toc": {
   "base_numbering": 1,
   "nav_menu": {},
   "number_sections": true,
   "sideBar": true,
   "skip_h1_title": true,
   "title_cell": "Table of Contents",
   "title_sidebar": "Contents",
   "toc_cell": false,
   "toc_position": {
    "height": "calc(100% - 180px)",
    "left": "10px",
    "top": "150px",
    "width": "294.435px"
   },
   "toc_section_display": true,
   "toc_window_display": true
  }
 },
 "nbformat": 4,
 "nbformat_minor": 1
}
